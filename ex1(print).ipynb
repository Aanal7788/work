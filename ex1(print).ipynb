{
 "cells": [
  {
   "cell_type": "code",
   "execution_count": 1,
   "metadata": {},
   "outputs": [],
   "source": [
    "name=input(\"Please your name\")\n",
    "age=input(f\"{name},Please enter your age\")\n",
    "sport=input(f\"{name},Please enter your favourite sport\")\n",
    "hobby=input(f\"{name},Please enter your hobby\")"
   ]
  },
  {
   "cell_type": "code",
   "execution_count": 3,
   "metadata": {},
   "outputs": [
    {
     "name": "stdout",
     "output_type": "stream",
     "text": [
      "Hello, my name is deep and I am 22 years old. My favourite sports is swimming and My hobby is cricket.\n"
     ]
    }
   ],
   "source": [
    "print(\"Hello, my name is \" + name + \" and I am \" + str(age) + \" years old. My favourite sports is \" + sport + \" and My hobby is \" + hobby + \".\")"
   ]
  },
  {
   "cell_type": "code",
   "execution_count": 3,
   "metadata": {},
   "outputs": [
    {
     "name": "stdout",
     "output_type": "stream",
     "text": [
      "Hello, my name is  Deep  and I am  23  years old. My favourite sports is  swimming  and My hobby is  music .\n"
     ]
    }
   ],
   "source": [
    "print(\"Hello, my name is \" , name , \" and I am \" , str(age) , \" years old. My favourite sports is \" , sport , \" and My hobby is \" , hobby , \".\")"
   ]
  },
  {
   "cell_type": "code",
   "execution_count": 6,
   "metadata": {},
   "outputs": [
    {
     "name": "stdout",
     "output_type": "stream",
     "text": [
      "Hello, my name is deep and I am swimming years old. My favourite sports is cricket and My hobby is 22.\n"
     ]
    }
   ],
   "source": [
    "print(\"Hello, my name is {} and I am {} years old. My favourite sports is {} and My hobby is {}.\".format(name,sport,hobby,age))"
   ]
  },
  {
   "cell_type": "code",
   "execution_count": 6,
   "metadata": {},
   "outputs": [
    {
     "name": "stdout",
     "output_type": "stream",
     "text": [
      "Hello, my name is Deep and I am 23 years old. My favourite sports is swimming and My hobby is music.\n"
     ]
    }
   ],
   "source": [
    "print(f\"Hello, my name is {name} and I am {age} years old. My favourite sports is {sport} and My hobby is {hobby}.\")"
   ]
  }
 ],
 "metadata": {
  "interpreter": {
   "hash": "df667f885b32d85fe0ec4dba32479b46b75d7489a1229482fc72753e0a81fc69"
  },
  "kernelspec": {
   "display_name": "Python 3.9.6 64-bit",
   "language": "python",
   "name": "python3"
  },
  "language_info": {
   "codemirror_mode": {
    "name": "ipython",
    "version": 3
   },
   "file_extension": ".py",
   "mimetype": "text/x-python",
   "name": "python",
   "nbconvert_exporter": "python",
   "pygments_lexer": "ipython3",
   "version": "3.9.6"
  },
  "orig_nbformat": 4
 },
 "nbformat": 4,
 "nbformat_minor": 2
}
